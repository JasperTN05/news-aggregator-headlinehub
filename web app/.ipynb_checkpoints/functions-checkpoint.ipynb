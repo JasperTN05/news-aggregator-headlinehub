{
 "cells": [
  {
   "cell_type": "code",
   "execution_count": 3,
   "id": "b03a6283",
   "metadata": {},
   "outputs": [],
   "source": [
    "def auto_scroll(n):\n",
    "    scroll_count = n\n",
    "    for _ in range(scroll_count):\n",
    "        # Scroll down using the END key\n",
    "        driver.find_element_by_tag_name('body').send_keys(Keys.END)\n",
    "        # Wait for a short time to let the content load (adjust as needed)\n",
    "        time.sleep(2)"
   ]
  },
  {
   "cell_type": "code",
   "execution_count": null,
   "id": "31917931",
   "metadata": {},
   "outputs": [],
   "source": []
  }
 ],
 "metadata": {
  "kernelspec": {
   "display_name": "Python 3 (ipykernel)",
   "language": "python",
   "name": "python3"
  },
  "language_info": {
   "codemirror_mode": {
    "name": "ipython",
    "version": 3
   },
   "file_extension": ".py",
   "mimetype": "text/x-python",
   "name": "python",
   "nbconvert_exporter": "python",
   "pygments_lexer": "ipython3",
   "version": "3.11.3"
  }
 },
 "nbformat": 4,
 "nbformat_minor": 5
}
